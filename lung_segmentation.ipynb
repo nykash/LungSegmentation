{
 "cells": [
  {
   "cell_type": "code",
   "execution_count": 3,
   "outputs": [
    {
     "name": "stderr",
     "output_type": "stream",
     "text": [
      "WARNING: You are using pip version 22.0.4; however, version 22.2.2 is available.\n",
      "You should consider upgrading via the 'C:\\Users\\dassu\\AppData\\Local\\Programs\\Python\\Python39\\python.exe -m pip install --upgrade pip' command.\n",
      "WARNING: You are using pip version 22.0.4; however, version 22.2.2 is available.\n",
      "You should consider upgrading via the 'C:\\Users\\dassu\\AppData\\Local\\Programs\\Python\\Python39\\python.exe -m pip install --upgrade pip' command.\n"
     ]
    }
   ],
   "source": [
    "!pip install segmentation_models -q\n",
    "!pip install albumentations -q"
   ],
   "metadata": {
    "collapsed": false,
    "pycharm": {
     "name": "#%%\n"
    }
   }
  },
  {
   "cell_type": "code",
   "execution_count": 22,
   "outputs": [],
   "source": [
    "import torch\n",
    "import torch.nn as nn\n",
    "import torchvision\n",
    "from torchvision.utils import make_grid, save_image\n",
    "import torch.optim as optim\n",
    "import torch.utils.data as datasets\n",
    "import torchvision.transforms as transforms\n",
    "import numpy as np\n",
    "import os\n",
    "from PIL import Image\n",
    "import albumentations as albu\n",
    "from albumentations.pytorch import ToTensorV2\n",
    "from sklearn.model_selection import train_test_split\n",
    "import segmentation_models_pytorch as sgm"
   ],
   "metadata": {
    "collapsed": false,
    "pycharm": {
     "name": "#%%\n"
    }
   }
  },
  {
   "cell_type": "code",
   "execution_count": 5,
   "outputs": [],
   "source": [
    "device = torch.device(\"cuda\" if torch.cuda.is_available() else \"cpu\")"
   ],
   "metadata": {
    "collapsed": false,
    "pycharm": {
     "name": "#%%\n"
    }
   }
  },
  {
   "cell_type": "code",
   "execution_count": 8,
   "outputs": [],
   "source": [
    "image_dir = \"images\"\n",
    "mask_dir = \"masks\""
   ],
   "metadata": {
    "collapsed": false,
    "pycharm": {
     "name": "#%%\n"
    }
   }
  },
  {
   "cell_type": "code",
   "execution_count": 13,
   "outputs": [],
   "source": [
    "class LungSegmentationDataset(datasets.Dataset):\n",
    "    def __init__(self, images, transform, image_root=\"images\", mask_root=\"masks\"):\n",
    "        self.images = images\n",
    "        self.masks = [img.rstrip(\".png\")+\"_mask.png\" if img[0] == \"C\" else img for img in self.images]\n",
    "        self.transform = transform\n",
    "\n",
    "        self.image_root = image_root\n",
    "        self.mask_root = mask_root\n",
    "\n",
    "        self.extra_aug = transforms.Compose([\n",
    "            transforms.ColorJitter(0.2, 0.2, 0.2, 0.2),\n",
    "            transforms.RandomErasing(p=0.7),\n",
    "        ])\n",
    "\n",
    "    def __len__(self):\n",
    "        return len(self.images)\n",
    "\n",
    "    def __getitem__(self, idx):\n",
    "        img_path = self.images[idx]\n",
    "        mask_path = self.masks[idx]\n",
    "\n",
    "        img = Image.open(os.path.join(self.image_root, img_path)).convert(\"L\")\n",
    "        mask = Image.open(os.path.join(self.mask_root, mask_path)).convert(\"L\")\n",
    "\n",
    "        data = self.transform(image=np.array(img)/255, mask=np.array(mask)/255)\n",
    "        img, mask = data[\"image\"], data[\"mask\"]\n",
    "\n",
    "        img = self.extra_aug(img)\n",
    "\n",
    "        return img.float(), mask"
   ],
   "metadata": {
    "collapsed": false,
    "pycharm": {
     "name": "#%%\n"
    }
   }
  },
  {
   "cell_type": "code",
   "execution_count": 14,
   "outputs": [],
   "source": [
    "images = os.listdir(image_dir)\n",
    "masks = os.listdir(mask_dir)\n",
    "final_images = []\n",
    "\n",
    "for path in images:\n",
    "    if path in masks or path.rstrip(\".png\")+\"_mask.png\" in masks:\n",
    "        final_images.append(path)\n",
    "\n",
    "train_files, test_files = train_test_split(final_images, train_size=0.8, random_state=17)"
   ],
   "metadata": {
    "collapsed": false,
    "pycharm": {
     "name": "#%%\n"
    }
   }
  },
  {
   "cell_type": "code",
   "execution_count": 15,
   "outputs": [],
   "source": [
    "train_transforms = albu.Compose([\n",
    "    albu.Resize(224, 224),\n",
    "    albu.Affine([0.8, 1.2], [0.1, 0.1], rotate=10, p=0.8),\n",
    "    ToTensorV2()\n",
    "], additional_targets={\"image\": \"image\", \"mask\": \"image\"})\n",
    "\n",
    "test_transform = albu.Compose([\n",
    "    albu.Resize(224, 224),\n",
    "    ToTensorV2()\n",
    "], additional_targets={\"image\": \"image\", \"mask\": \"image\"})"
   ],
   "metadata": {
    "collapsed": false,
    "pycharm": {
     "name": "#%%\n"
    }
   }
  },
  {
   "cell_type": "code",
   "execution_count": 16,
   "outputs": [],
   "source": [
    "batch_size = 16\n",
    "test_batch_size = 4\n",
    "lr = 1e-4\n",
    "epochs = 30\n",
    "\n",
    "train_data = LungSegmentationDataset(train_files, train_transforms)\n",
    "test_data = LungSegmentationDataset(test_files, test_transform)"
   ],
   "metadata": {
    "collapsed": false,
    "pycharm": {
     "name": "#%%\n"
    }
   }
  },
  {
   "cell_type": "code",
   "execution_count": 17,
   "outputs": [],
   "source": [
    "train_loader = datasets.DataLoader(train_data, batch_size, shuffle=True)\n",
    "test_loader = datasets.DataLoader(test_data, test_batch_size)\n",
    "\n",
    "model = sgm.Unet(in_channels=1).to(device)\n",
    "optimizer = optim.Adam(model.parameters(), lr=lr)\n",
    "criterion = sgm.losses.DiceLoss(sgm.losses.constants.BINARY_MODE)\n",
    "iou_metric = sgm.losses.JaccardLoss(sgm.losses.constants.BINARY_MODE)"
   ],
   "metadata": {
    "collapsed": false,
    "pycharm": {
     "name": "#%%\n"
    }
   }
  },
  {
   "cell_type": "code",
   "execution_count": 18,
   "outputs": [],
   "source": [
    "if not os.path.exists(\"models\"):\n",
    "    os.mkdir(\"models\")"
   ],
   "metadata": {
    "collapsed": false,
    "pycharm": {
     "name": "#%%\n"
    }
   }
  },
  {
   "cell_type": "code",
   "execution_count": 19,
   "outputs": [
    {
     "name": "stdout",
     "output_type": "stream",
     "text": [
      " train epoch 0/30, iter 35/36,loss 0.4823182142443127, iou 0.34877988696098334\n",
      " test epoch 0/30, iter 35/36,loss 0.40200303826067185, iou 0.38766023516654975\n",
      " train epoch 1/30, iter 35/36,loss 0.3144392536746131, iou 0.513947248458862376\n",
      " test epoch 1/30, iter 35/36,loss 0.29825176960892147, iou 0.5272665619850159\n",
      " train epoch 2/30, iter 35/36,loss 0.25351491901609635, iou 0.5867607593536377\n",
      " test epoch 2/30, iter 35/36,loss 0.23739350669913822, iou 0.6015490293502808\n",
      " train epoch 3/30, iter 35/36,loss 0.2082854840490553, iou 0.64659231901168826\n",
      " test epoch 3/30, iter 35/36,loss 0.20079750153753492, iou 0.6561807394027719\n",
      " train epoch 4/30, iter 35/36,loss 0.17954938610394797, iou 0.6863291263580322\n",
      " test epoch 4/30, iter 35/36,loss 0.1780583080318239, iou 0.69188541173934942\n",
      " train epoch 5/30, iter 35/36,loss 0.1535012341207928, iou 0.72560507059097296\n",
      " test epoch 5/30, iter 35/36,loss 0.15433296892378065, iou 0.7290917634963989\n",
      " train epoch 6/30, iter 35/36,loss 0.13930918276309967, iou 0.7466024756431585\n",
      " test epoch 6/30, iter 35/36,loss 0.1356347699960073, iou 0.75357937812805187\n",
      " train epoch 7/30, iter 35/36,loss 0.12422188454204136, iou 0.7709460258483887\n",
      " test epoch 7/30, iter 35/36,loss 0.12442549731996325, iou 0.7746279239654541\n",
      " train epoch 8/30, iter 35/36,loss 0.11478145751688215, iou 0.7859686017036438\n",
      " test epoch 8/30, iter 35/36,loss 0.1157582120762931, iou 0.78928065299987793\n",
      " train epoch 9/30, iter 35/36,loss 0.10604613025983174, iou 0.8005440831184387\n",
      " test epoch 9/30, iter 35/36,loss 0.10599976778030396, iou 0.8042811155319214\n",
      " train epoch 10/30, iter 35/36,loss 0.09790206286642286, iou 0.8142402172088623\n",
      " test epoch 10/30, iter 35/36,loss 0.09426061146789128, iou 0.8209063410758972\n",
      " train epoch 11/30, iter 35/36,loss 0.09053867724206713, iou 0.8273012042045593\n",
      " test epoch 11/30, iter 35/36,loss 0.09087921016746098, iou 0.8303859829902649\n",
      " train epoch 12/30, iter 35/36,loss 0.08727076318528917, iou 0.8314799070358276\n",
      " test epoch 12/30, iter 35/36,loss 0.088339497645696, iou 0.834696054458618216\n",
      " train epoch 13/30, iter 35/36,loss 0.08101800249682532, iou 0.8437745571136475\n",
      " test epoch 13/30, iter 35/36,loss 0.094399051533805, iou 0.835620880126953192\n",
      " train epoch 14/30, iter 35/36,loss 0.07934567994541591, iou 0.8452683091163635\n",
      " test epoch 14/30, iter 35/36,loss 0.08121473093827565, iou 0.8475987911224365\n",
      " train epoch 15/30, iter 35/36,loss 0.07224906153149074, iou 0.8589602708816528\n",
      " test epoch 15/30, iter 35/36,loss 0.07579506933689117, iou 0.8590828776359558\n",
      " train epoch 16/30, iter 35/36,loss 0.07074759403864543, iou 0.8611117601394653\n",
      " test epoch 16/30, iter 35/36,loss 0.07552062968413036, iou 0.8606013059616089\n",
      " train epoch 17/30, iter 35/36,loss 0.06930548118220435, iou 0.8635020852088928\n",
      " test epoch 17/30, iter 35/36,loss 0.07561094396644169, iou 0.8613604903221131\n",
      " train epoch 18/30, iter 35/36,loss 0.06631169716517131, iou 0.8681017160415649\n",
      " test epoch 18/30, iter 35/36,loss 0.07216573589377934, iou 0.8667896389961243\n",
      " train epoch 19/30, iter 35/36,loss 0.06399425698651208, iou 0.8737601041793823\n",
      " test epoch 19/30, iter 35/36,loss 0.06775520079665714, iou 0.8733175396919255\n",
      " train epoch 20/30, iter 35/36,loss 0.06278142498599158, iou 0.87493908405303968\n",
      " test epoch 20/30, iter 35/36,loss 0.0688202612929874, iou 0.87322872877120974\n",
      " train epoch 21/30, iter 35/36,loss 0.05992091364330716, iou 0.88073229789733895\n",
      " test epoch 21/30, iter 35/36,loss 0.06764234768019782, iou 0.8772363066673279\n",
      " train epoch 22/30, iter 35/36,loss 0.0596146434545517, iou 0.881164789199829143\n",
      " test epoch 22/30, iter 35/36,loss 0.0634396043088701, iou 0.880983710289001567\n",
      " train epoch 23/30, iter 35/36,loss 0.058987935384114586, iou 0.8824519515037537\n",
      " test epoch 23/30, iter 35/36,loss 0.06750200688838959, iou 0.8780157566070557\n",
      " train epoch 24/30, iter 35/36,loss 0.05793139504061805, iou 0.88376325368881231\n",
      " test epoch 24/30, iter 35/36,loss 0.06169263687398699, iou 0.88378965854644789\n",
      " train epoch 25/30, iter 35/36,loss 0.05557209915584988, iou 0.88863950967788798\n",
      " test epoch 25/30, iter 35/36,loss 0.06349554326799181, iou 0.88466006517410284\n",
      " train epoch 26/30, iter 35/36,loss 0.054676963223351374, iou 0.8901742100715637\n",
      " test epoch 26/30, iter 35/36,loss 0.06051622165573968, iou 0.88812279701232915\n",
      " train epoch 27/30, iter 35/36,loss 0.05514086286226908, iou 0.88915896415710455\n",
      " test epoch 27/30, iter 35/36,loss 0.06373441219329834, iou 0.88488650321960451\n",
      " train epoch 28/30, iter 35/36,loss 0.054257543550597295, iou 0.8907061815261841\n",
      " test epoch 28/30, iter 35/36,loss 0.060111559099621244, iou 0.8888401985168457\n",
      " train epoch 29/30, iter 35/36,loss 0.054687569538752236, iou 0.8902214765548706\n",
      " test epoch 29/30, iter 35/36,loss 0.05953503814008501, iou 0.88904982805252089\n"
     ]
    }
   ],
   "source": [
    "for epoch in range(epochs):\n",
    "    losses = []\n",
    "    ious = []\n",
    "    model.train()\n",
    "\n",
    "    for i, (img, mask) in enumerate(train_loader):\n",
    "        optimizer.zero_grad()\n",
    "\n",
    "        y = model(img.to(device))\n",
    "        loss = criterion(y, mask.float().to(device))\n",
    "        ious.append(1-iou_metric(y.detach().cpu(), mask.long()))\n",
    "\n",
    "        loss.backward()\n",
    "        optimizer.step()\n",
    "\n",
    "        losses.append(loss.item())\n",
    "        print(\"\\r\", f\"train epoch {epoch}/{epochs}, iter {i}/{len(train_loader)},\"\n",
    "                    f\"loss {sum(losses)/(len(losses))}, iou {sum(ious)/len(ious)}\", end=\"\")\n",
    "\n",
    "    print(\"\")\n",
    "    losses = []\n",
    "    model.eval()\n",
    "\n",
    "    for i, (img, mask) in enumerate(test_loader):\n",
    "        y = model(img.to(device))\n",
    "        loss = criterion(y, mask.float().to(device))\n",
    "        ious.append(1-iou_metric(y.detach().cpu(), mask.long()))\n",
    "\n",
    "        losses.append(loss.item())\n",
    "        print(\"\\r\", f\"test epoch {epoch}/{epochs}, iter {i}/{len(test_loader)},\"\n",
    "                    f\"loss {sum(losses) / (len(losses))}, iou {sum(ious)/len(ious)}\", end=\"\")\n",
    "    print(\"\")\n",
    "    torch.save(model, f\"models/epoch_{epoch}.pth\")"
   ],
   "metadata": {
    "collapsed": false,
    "pycharm": {
     "name": "#%%\n"
    }
   }
  },
  {
   "cell_type": "code",
   "execution_count": 20,
   "outputs": [],
   "source": [
    "if not os.path.exists(\"example_plots\"):\n",
    "    os.mkdir(\"example_plots\")"
   ],
   "metadata": {
    "collapsed": false,
    "pycharm": {
     "name": "#%%\n"
    }
   }
  },
  {
   "cell_type": "code",
   "execution_count": 26,
   "outputs": [],
   "source": [
    "n_examples = 4\n",
    "for i in range(n_examples):\n",
    "    img, mask = next(iter(train_loader))\n",
    "    preds = torch.sigmoid(model(img.to(device))).cpu()\n",
    "\n",
    "    pred_grid = make_grid(preds, nrow=4)\n",
    "    mask_grid = make_grid(mask, nrow=4)\n",
    "\n",
    "    save_image(pred_grid, f\"example_plots/pred_{i}.png\")\n",
    "    save_image(mask_grid, f\"example_plots/ground_truth_{i}.png\")"
   ],
   "metadata": {
    "collapsed": false,
    "pycharm": {
     "name": "#%%\n"
    }
   }
  },
  {
   "cell_type": "code",
   "execution_count": null,
   "outputs": [],
   "source": [],
   "metadata": {
    "collapsed": false,
    "pycharm": {
     "name": "#%%\n"
    }
   }
  }
 ],
 "metadata": {
  "kernelspec": {
   "display_name": "Python 3",
   "language": "python",
   "name": "python3"
  },
  "language_info": {
   "codemirror_mode": {
    "name": "ipython",
    "version": 2
   },
   "file_extension": ".py",
   "mimetype": "text/x-python",
   "name": "python",
   "nbconvert_exporter": "python",
   "pygments_lexer": "ipython2",
   "version": "2.7.6"
  }
 },
 "nbformat": 4,
 "nbformat_minor": 0
}